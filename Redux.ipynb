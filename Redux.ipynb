{
 "cells": [
  {
   "cell_type": "code",
   "execution_count": null,
   "id": "f15caea1-e6f6-429d-a2ba-3040d6caab9a",
   "metadata": {},
   "outputs": [],
   "source": [
    "import numpy as np\n",
    "import matplotlib.pyplot as plt\n",
    "import matplotlib.cm as cm\n",
    "from astropy.io import fits\n",
    "import glob\n",
    "from astropy.visualization import make_lupton_rgb\n",
    "from scipy import ndimage"
   ]
  },
  {
   "cell_type": "code",
   "execution_count": null,
   "id": "c5692e63-989c-4bff-b32d-be052c531998",
   "metadata": {},
   "outputs": [],
   "source": [
    "#Función para generar un array con varias imágenes, generar un array 3D\n",
    "def Fits_Array(a):\n",
    "    b=np.empty([4096,4096,0])\n",
    "    for i in range(len(a)):\n",
    "        x=fits.open(a[i])\n",
    "        b=np.dstack((b,np.array(x[0].data)))\n",
    "    return b"
   ]
  },
  {
   "cell_type": "code",
   "execution_count": null,
   "id": "7951aeb6-13e8-4dd0-b57b-d1a3d78aa6ab",
   "metadata": {},
   "outputs": [],
   "source": [
    "#Ejemplo para abrir varios fits en una misma carpeta\n",
    "b=glob.glob('datos_OMA/BIAS*.fit')\n",
    "\n",
    "#Luego se aplica la función anterior a este objeto\n",
    "Bias=Fits_Array(b)"
   ]
  },
  {
   "cell_type": "code",
   "execution_count": null,
   "id": "4b29f275-e91e-42ad-9aad-77cbc969c4d6",
   "metadata": {},
   "outputs": [],
   "source": [
    "#Ejemplos para generar masters\n",
    "Master_Bias=np.mean(Bias,axis=2)\n",
    "Master_Dark=np.mean(Dark,axis=2)\n",
    "DarkyBias=(Master_Bias+Master_Dark)\n",
    "Master_Flat_B_norm=np.mean(FLAT_B-DarkyBias,axis=2)/np.median(FLAT_B-Darkybias,axis=2)"
   ]
  },
  {
   "cell_type": "code",
   "execution_count": null,
   "id": "d8585a32-2f6c-4ccb-9374-46f15e55129a",
   "metadata": {},
   "outputs": [],
   "source": [
    "#Receta básica de reducción\n",
    "BR1=(B1-DarkyBias)/(Master_Flat_B_norm)"
   ]
  },
  {
   "cell_type": "code",
   "execution_count": null,
   "id": "8f1f494a-07b0-4d61-b87e-a53920db22c9",
   "metadata": {},
   "outputs": [],
   "source": [
    "#Ejemplo de rgb\n",
    "rgb = make_lupton_rgb(Si, Sr, B, Q=10, stretch=0.5, filename='ngc1269.png')\n",
    "plt.imshow(rgb, origin='lower')"
   ]
  }
 ],
 "metadata": {
  "kernelspec": {
   "display_name": "Python 3 (ipykernel)",
   "language": "python",
   "name": "python3"
  },
  "language_info": {
   "codemirror_mode": {
    "name": "ipython",
    "version": 3
   },
   "file_extension": ".py",
   "mimetype": "text/x-python",
   "name": "python",
   "nbconvert_exporter": "python",
   "pygments_lexer": "ipython3",
   "version": "3.9.7"
  }
 },
 "nbformat": 4,
 "nbformat_minor": 5
}
